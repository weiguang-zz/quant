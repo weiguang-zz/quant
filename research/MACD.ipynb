{
 "cells": [
  {
   "cell_type": "code",
   "execution_count": 1,
   "metadata": {
    "collapsed": false
   },
   "outputs": [
    {
     "name": "stderr",
     "output_type": "stream",
     "text": [
      "/Users/zhangzheng/pyenv/tensorflow/lib/python2.7/site-packages/flask_sqlalchemy/__init__.py:800: UserWarning: SQLALCHEMY_TRACK_MODIFICATIONS adds significant overhead and will be disabled by default in the future.  Set it to True to suppress this warning.\n",
      "  warnings.warn('SQLALCHEMY_TRACK_MODIFICATIONS adds significant overhead and will be disabled by default in the future.  Set it to True to suppress this warning.')\n"
     ]
    }
   ],
   "source": [
    "import pandas as pd\n",
    "from quant import db\n",
    "import sys\n",
    "import talib\n",
    "import matplotlib.pyplot as plt\n",
    "%matplotlib inline"
   ]
  },
  {
   "cell_type": "code",
   "execution_count": 2,
   "metadata": {
    "collapsed": false
   },
   "outputs": [
    {
     "data": {
      "text/html": [
       "<div>\n",
       "<table border=\"1\" class=\"dataframe\">\n",
       "  <thead>\n",
       "    <tr style=\"text-align: right;\">\n",
       "      <th></th>\n",
       "      <th>0</th>\n",
       "      <th>1</th>\n",
       "    </tr>\n",
       "  </thead>\n",
       "  <tbody>\n",
       "    <tr>\n",
       "      <th>0</th>\n",
       "      <td>WIKI/FURX</td>\n",
       "      <td>Furiex Pharmaceuticals, Inc. (FURX) Prices, Di...</td>\n",
       "    </tr>\n",
       "    <tr>\n",
       "      <th>1</th>\n",
       "      <td>WIKI/FFBH</td>\n",
       "      <td>First Federal Bancshares of Arkansas, Inc. (FF...</td>\n",
       "    </tr>\n",
       "    <tr>\n",
       "      <th>2</th>\n",
       "      <td>WIKI/FDO</td>\n",
       "      <td>Family Dollar Stores, Inc. (FDO) Prices, Divid...</td>\n",
       "    </tr>\n",
       "    <tr>\n",
       "      <th>3</th>\n",
       "      <td>WIKI/QEP</td>\n",
       "      <td>QEP Resources, Inc. (QEP) Prices, Dividends, S...</td>\n",
       "    </tr>\n",
       "    <tr>\n",
       "      <th>4</th>\n",
       "      <td>WIKI/CHTP</td>\n",
       "      <td>Chelsea Therapeutics International, Ltd. (CHTP...</td>\n",
       "    </tr>\n",
       "    <tr>\n",
       "      <th>5</th>\n",
       "      <td>WIKI/VLCCF</td>\n",
       "      <td>Knightsbridge Tankers Limited (VLCCF) Prices, ...</td>\n",
       "    </tr>\n",
       "    <tr>\n",
       "      <th>6</th>\n",
       "      <td>WIKI/RLOC</td>\n",
       "      <td>ReachLocal Inc. (RLOC) Prices, Dividends, Spli...</td>\n",
       "    </tr>\n",
       "    <tr>\n",
       "      <th>7</th>\n",
       "      <td>WIKI/HSH</td>\n",
       "      <td>Hillshire Brands Company (The) (HSH) Prices, D...</td>\n",
       "    </tr>\n",
       "    <tr>\n",
       "      <th>8</th>\n",
       "      <td>WIKI/ELRC</td>\n",
       "      <td>Electro Rent Corp. (ELRC) Prices, Dividends, S...</td>\n",
       "    </tr>\n",
       "    <tr>\n",
       "      <th>9</th>\n",
       "      <td>WIKI/XOXO</td>\n",
       "      <td>XO Group (XOXO) Prices, Dividends, Splits and ...</td>\n",
       "    </tr>\n",
       "  </tbody>\n",
       "</table>\n",
       "</div>"
      ],
      "text/plain": [
       "            0                                                  1\n",
       "0   WIKI/FURX  Furiex Pharmaceuticals, Inc. (FURX) Prices, Di...\n",
       "1   WIKI/FFBH  First Federal Bancshares of Arkansas, Inc. (FF...\n",
       "2    WIKI/FDO  Family Dollar Stores, Inc. (FDO) Prices, Divid...\n",
       "3    WIKI/QEP  QEP Resources, Inc. (QEP) Prices, Dividends, S...\n",
       "4   WIKI/CHTP  Chelsea Therapeutics International, Ltd. (CHTP...\n",
       "5  WIKI/VLCCF  Knightsbridge Tankers Limited (VLCCF) Prices, ...\n",
       "6   WIKI/RLOC  ReachLocal Inc. (RLOC) Prices, Dividends, Spli...\n",
       "7    WIKI/HSH  Hillshire Brands Company (The) (HSH) Prices, D...\n",
       "8   WIKI/ELRC  Electro Rent Corp. (ELRC) Prices, Dividends, S...\n",
       "9   WIKI/XOXO  XO Group (XOXO) Prices, Dividends, Splits and ..."
      ]
     },
     "execution_count": 2,
     "metadata": {},
     "output_type": "execute_result"
    }
   ],
   "source": [
    "codes = pd.read_csv(\"WIKI-datasets-codes.csv\",header=None,names=['code','company_name'],index_col=False)\n",
    "codes[:10]"
   ]
  },
  {
   "cell_type": "code",
   "execution_count": 23,
   "metadata": {
    "collapsed": false
   },
   "outputs": [],
   "source": [
    "dataA=pd.read_sql(sql=\"select * from prices_A where code='A'\",con=db.session.connection())"
   ]
  },
  {
   "cell_type": "code",
   "execution_count": 28,
   "metadata": {
    "collapsed": false
   },
   "outputs": [
    {
     "data": {
      "text/html": [
       "<div>\n",
       "<table border=\"1\" class=\"dataframe\">\n",
       "  <thead>\n",
       "    <tr style=\"text-align: right;\">\n",
       "      <th></th>\n",
       "      <th>Date</th>\n",
       "      <th>Code</th>\n",
       "      <th>Open</th>\n",
       "      <th>High</th>\n",
       "      <th>Low</th>\n",
       "      <th>Close</th>\n",
       "      <th>Volume</th>\n",
       "      <th>Ex-Dividend</th>\n",
       "      <th>Split Ratio</th>\n",
       "      <th>Adj. Open</th>\n",
       "      <th>Adj. High</th>\n",
       "      <th>Adj. Low</th>\n",
       "      <th>Adj. Close</th>\n",
       "      <th>Adj. Volume</th>\n",
       "    </tr>\n",
       "  </thead>\n",
       "  <tbody>\n",
       "    <tr>\n",
       "      <th>0</th>\n",
       "      <td>1999-11-18</td>\n",
       "      <td>A</td>\n",
       "      <td>45.50</td>\n",
       "      <td>50.00</td>\n",
       "      <td>40.00</td>\n",
       "      <td>44.00</td>\n",
       "      <td>44739900.0</td>\n",
       "      <td>0.0</td>\n",
       "      <td>1.0</td>\n",
       "      <td>43.471810</td>\n",
       "      <td>47.771219</td>\n",
       "      <td>38.216975</td>\n",
       "      <td>42.038673</td>\n",
       "      <td>44739900.0</td>\n",
       "    </tr>\n",
       "    <tr>\n",
       "      <th>1</th>\n",
       "      <td>1999-11-19</td>\n",
       "      <td>A</td>\n",
       "      <td>42.94</td>\n",
       "      <td>43.00</td>\n",
       "      <td>39.81</td>\n",
       "      <td>40.38</td>\n",
       "      <td>10897100.0</td>\n",
       "      <td>0.0</td>\n",
       "      <td>1.0</td>\n",
       "      <td>41.025923</td>\n",
       "      <td>41.083249</td>\n",
       "      <td>38.035445</td>\n",
       "      <td>38.580037</td>\n",
       "      <td>10897100.0</td>\n",
       "    </tr>\n",
       "    <tr>\n",
       "      <th>2</th>\n",
       "      <td>1999-11-22</td>\n",
       "      <td>A</td>\n",
       "      <td>41.31</td>\n",
       "      <td>44.00</td>\n",
       "      <td>40.06</td>\n",
       "      <td>44.00</td>\n",
       "      <td>4705200.0</td>\n",
       "      <td>0.0</td>\n",
       "      <td>1.0</td>\n",
       "      <td>39.468581</td>\n",
       "      <td>42.038673</td>\n",
       "      <td>38.274301</td>\n",
       "      <td>42.038673</td>\n",
       "      <td>4705200.0</td>\n",
       "    </tr>\n",
       "    <tr>\n",
       "      <th>3</th>\n",
       "      <td>1999-11-23</td>\n",
       "      <td>A</td>\n",
       "      <td>42.50</td>\n",
       "      <td>43.63</td>\n",
       "      <td>40.25</td>\n",
       "      <td>40.25</td>\n",
       "      <td>4274400.0</td>\n",
       "      <td>0.0</td>\n",
       "      <td>1.0</td>\n",
       "      <td>40.605536</td>\n",
       "      <td>41.685166</td>\n",
       "      <td>38.455832</td>\n",
       "      <td>38.455832</td>\n",
       "      <td>4274400.0</td>\n",
       "    </tr>\n",
       "    <tr>\n",
       "      <th>4</th>\n",
       "      <td>1999-11-24</td>\n",
       "      <td>A</td>\n",
       "      <td>40.13</td>\n",
       "      <td>41.94</td>\n",
       "      <td>40.00</td>\n",
       "      <td>41.06</td>\n",
       "      <td>3464400.0</td>\n",
       "      <td>0.0</td>\n",
       "      <td>1.0</td>\n",
       "      <td>38.341181</td>\n",
       "      <td>40.070499</td>\n",
       "      <td>38.216975</td>\n",
       "      <td>39.229725</td>\n",
       "      <td>3464400.0</td>\n",
       "    </tr>\n",
       "    <tr>\n",
       "      <th>5</th>\n",
       "      <td>1999-11-26</td>\n",
       "      <td>A</td>\n",
       "      <td>40.88</td>\n",
       "      <td>41.50</td>\n",
       "      <td>40.75</td>\n",
       "      <td>41.19</td>\n",
       "      <td>1237100.0</td>\n",
       "      <td>0.0</td>\n",
       "      <td>1.0</td>\n",
       "      <td>39.057749</td>\n",
       "      <td>39.650112</td>\n",
       "      <td>38.933544</td>\n",
       "      <td>39.353930</td>\n",
       "      <td>1237100.0</td>\n",
       "    </tr>\n",
       "    <tr>\n",
       "      <th>6</th>\n",
       "      <td>1999-11-29</td>\n",
       "      <td>A</td>\n",
       "      <td>41.00</td>\n",
       "      <td>42.44</td>\n",
       "      <td>40.56</td>\n",
       "      <td>42.13</td>\n",
       "      <td>2914700.0</td>\n",
       "      <td>0.0</td>\n",
       "      <td>1.0</td>\n",
       "      <td>39.172400</td>\n",
       "      <td>40.548211</td>\n",
       "      <td>38.752013</td>\n",
       "      <td>40.252029</td>\n",
       "      <td>2914700.0</td>\n",
       "    </tr>\n",
       "    <tr>\n",
       "      <th>7</th>\n",
       "      <td>1999-11-30</td>\n",
       "      <td>A</td>\n",
       "      <td>42.00</td>\n",
       "      <td>42.94</td>\n",
       "      <td>40.94</td>\n",
       "      <td>42.19</td>\n",
       "      <td>3083000.0</td>\n",
       "      <td>0.0</td>\n",
       "      <td>1.0</td>\n",
       "      <td>40.127824</td>\n",
       "      <td>41.025923</td>\n",
       "      <td>39.115074</td>\n",
       "      <td>40.309355</td>\n",
       "      <td>3083000.0</td>\n",
       "    </tr>\n",
       "    <tr>\n",
       "      <th>8</th>\n",
       "      <td>1999-12-01</td>\n",
       "      <td>A</td>\n",
       "      <td>42.19</td>\n",
       "      <td>43.44</td>\n",
       "      <td>41.88</td>\n",
       "      <td>42.94</td>\n",
       "      <td>2115400.0</td>\n",
       "      <td>0.0</td>\n",
       "      <td>1.0</td>\n",
       "      <td>40.309355</td>\n",
       "      <td>41.503635</td>\n",
       "      <td>40.013173</td>\n",
       "      <td>41.025923</td>\n",
       "      <td>2115400.0</td>\n",
       "    </tr>\n",
       "    <tr>\n",
       "      <th>9</th>\n",
       "      <td>1999-12-02</td>\n",
       "      <td>A</td>\n",
       "      <td>43.75</td>\n",
       "      <td>45.00</td>\n",
       "      <td>43.19</td>\n",
       "      <td>44.13</td>\n",
       "      <td>2195900.0</td>\n",
       "      <td>0.0</td>\n",
       "      <td>1.0</td>\n",
       "      <td>41.799817</td>\n",
       "      <td>42.994097</td>\n",
       "      <td>41.264779</td>\n",
       "      <td>42.162878</td>\n",
       "      <td>2195900.0</td>\n",
       "    </tr>\n",
       "  </tbody>\n",
       "</table>\n",
       "</div>"
      ],
      "text/plain": [
       "        Date Code   Open   High    Low  Close      Volume  Ex-Dividend  \\\n",
       "0 1999-11-18    A  45.50  50.00  40.00  44.00  44739900.0          0.0   \n",
       "1 1999-11-19    A  42.94  43.00  39.81  40.38  10897100.0          0.0   \n",
       "2 1999-11-22    A  41.31  44.00  40.06  44.00   4705200.0          0.0   \n",
       "3 1999-11-23    A  42.50  43.63  40.25  40.25   4274400.0          0.0   \n",
       "4 1999-11-24    A  40.13  41.94  40.00  41.06   3464400.0          0.0   \n",
       "5 1999-11-26    A  40.88  41.50  40.75  41.19   1237100.0          0.0   \n",
       "6 1999-11-29    A  41.00  42.44  40.56  42.13   2914700.0          0.0   \n",
       "7 1999-11-30    A  42.00  42.94  40.94  42.19   3083000.0          0.0   \n",
       "8 1999-12-01    A  42.19  43.44  41.88  42.94   2115400.0          0.0   \n",
       "9 1999-12-02    A  43.75  45.00  43.19  44.13   2195900.0          0.0   \n",
       "\n",
       "   Split Ratio  Adj. Open  Adj. High   Adj. Low  Adj. Close  Adj. Volume  \n",
       "0          1.0  43.471810  47.771219  38.216975   42.038673   44739900.0  \n",
       "1          1.0  41.025923  41.083249  38.035445   38.580037   10897100.0  \n",
       "2          1.0  39.468581  42.038673  38.274301   42.038673    4705200.0  \n",
       "3          1.0  40.605536  41.685166  38.455832   38.455832    4274400.0  \n",
       "4          1.0  38.341181  40.070499  38.216975   39.229725    3464400.0  \n",
       "5          1.0  39.057749  39.650112  38.933544   39.353930    1237100.0  \n",
       "6          1.0  39.172400  40.548211  38.752013   40.252029    2914700.0  \n",
       "7          1.0  40.127824  41.025923  39.115074   40.309355    3083000.0  \n",
       "8          1.0  40.309355  41.503635  40.013173   41.025923    2115400.0  \n",
       "9          1.0  41.799817  42.994097  41.264779   42.162878    2195900.0  "
      ]
     },
     "execution_count": 28,
     "metadata": {},
     "output_type": "execute_result"
    }
   ],
   "source": [
    "dataA[:10]"
   ]
  },
  {
   "cell_type": "code",
   "execution_count": 25,
   "metadata": {
    "collapsed": false
   },
   "outputs": [],
   "source": [
    "macd,macdsignal,macdhist=talib.MACD(dataA['Close'].values)"
   ]
  },
  {
   "cell_type": "code",
   "execution_count": 45,
   "metadata": {
    "collapsed": false
   },
   "outputs": [
    {
     "name": "stdout",
     "output_type": "stream",
     "text": [
      "Object `plot` not found.\n"
     ]
    }
   ],
   "source": [
    "t1=pd.DataFrame({\"Close\":dataA.Close.values,\"macd\":macd,\"macdsignal\":macdsignal,'macdhist':macdhist},index=dataA.Date)\n",
    "\n",
    "t1[['macd','macdsignal']][-30:].plot()"
   ]
  },
  {
   "cell_type": "code",
   "execution_count": 50,
   "metadata": {
    "collapsed": false
   },
   "outputs": [
    {
     "data": {
      "text/plain": [
       "<matplotlib.axes.AxesSubplot at 0x10abe7090>"
      ]
     },
     "execution_count": 50,
     "metadata": {},
     "output_type": "execute_result"
    },
    {
     "data": {
      "image/png": "[encoded data removed]",
      "text/plain": [
       "<matplotlib.figure.Figure at 0x10ab69910>"
      ]
     },
     "metadata": {},
     "output_type": "display_data"
    }
   ],
   "source": [
    "fig=plt.figure()\n",
    "ax1=fig.add_subplot(2,1,1)\n",
    "ax2=fig.add_subplot(2,1,2)\n",
    "t1['Close'][-30:].plot(ax=ax1,sharex=True)\n",
    "t1[['macd','macdsignal']][-30:].plot(ax=ax2,sharex=True)"
   ]
  },
  {
   "cell_type": "code",
   "execution_count": 93,
   "metadata": {
    "collapsed": false,
    "scrolled": true
   },
   "outputs": [
    {
     "data": {
      "text/plain": [
       "<matplotlib.axes.AxesSubplot at 0x10f00bcd0>"
      ]
     },
     "execution_count": 93,
     "metadata": {},
     "output_type": "execute_result"
    },
    {
     "data": {
      "image/png": "[encoded data removed]",
      "text/plain": [
       "<matplotlib.figure.Figure at 0x10e76d510>"
      ]
     },
     "metadata": {},
     "output_type": "display_data"
    }
   ],
   "source": [
    "#the whole\n",
    "code='NFG'\n",
    "prefixL = code[0].upper()\n",
    "data=pd.read_sql(sql=\"select * from prices_%s where code='%s'\" % (prefixL,code), con=db.session.connection())\n",
    "macd,macdsignal,macdhist=talib.MACD(data['Close'].values)\n",
    "t1=pd.DataFrame({\"Close\":data.Close.values,\"macd\":macd,\"macdsignal\":macdsignal,'macdhist':macdhist},index=data.Date)\n",
    "#plot\n",
    "num=30\n",
    "fig=plt.figure(figsize=(10,10))\n",
    "ax1=fig.add_subplot(3,1,1)\n",
    "ax2=fig.add_subplot(3,1,2)\n",
    "ax3=fig.add_subplot(3,1,3)\n",
    "t1['Close'][-num:].plot(ax=ax1,sharex=True)\n",
    "t1[['macd','macdsignal']][-num:].plot(ax=ax2,sharex=True)\n",
    "t1['macdhist'][-num:].plot(ax=ax3,sharex=True,kind='bar')"
   ]
  },
  {
   "cell_type": "code",
   "execution_count": 82,
   "metadata": {
    "collapsed": false
   },
   "outputs": [
    {
     "data": {
      "text/plain": [
       "Timestamp('2016-09-07 00:00:00')"
      ]
     },
     "execution_count": 82,
     "metadata": {},
     "output_type": "execute_result"
    }
   ],
   "source": [
    "t1['macd'][-1]"
   ]
  },
  {
   "cell_type": "code",
   "execution_count": 87,
   "metadata": {
    "collapsed": false
   },
   "outputs": [
    {
     "name": "stdout",
     "output_type": "stream",
     "text": [
      "macd start to process FURX\n",
      "code FURX macd 没有出现金叉\n",
      "macd start to process FFBH\n",
      "code FFBH macd 没有出现金叉\n",
      "macd start to process FDO\n",
      "code FDO macd 没有出现金叉\n",
      "macd start to process QEP\n",
      "code QEP macd 没有出现金叉\n",
      "macd start to process CHTP\n",
      "code CHTP macd 没有出现金叉\n",
      "macd start to process VLCCF\n",
      "code VLCCF macd 没有出现金叉\n",
      "macd start to process RLOC\n",
      "code RLOC macd 没有出现金叉\n",
      "macd start to process HSH\n",
      "code HSH macd 没有出现金叉\n",
      "macd start to process ELRC\n",
      "code ELRC macd 没有出现金叉\n",
      "macd start to process XOXO\n",
      "code XOXO macd 没有出现金叉\n",
      "macd start to process ATRO\n",
      "code ATRO macd 没有出现金叉\n",
      "macd start to process ETFC\n",
      "code ETFC macd 没有出现金叉\n",
      "macd start to process RLJ\n",
      "code RLJ macd 没有出现金叉\n",
      "macd start to process PKI\n",
      "code PKI macd 没有出现金叉\n",
      "macd start to process TROW\n",
      "code TROW macd 没有出现金叉\n",
      "macd start to process WY\n",
      "code WY macd 没有出现金叉\n",
      "macd start to process NICK\n",
      "code NICK macd 没有出现金叉\n",
      "macd start to process NLNK\n",
      "code NLNK macd 没有出现金叉\n",
      "macd start to process BSRR\n",
      "code BSRR macd 没有出现金叉\n",
      "macd start to process USCR\n",
      "code USCR macd 没有出现金叉\n",
      "macd start to process NNBR\n",
      "code NNBR macd 没有出现金叉\n",
      "macd start to process CLF\n",
      "code CLF macd 没有出现金叉\n",
      "macd start to process SFBS\n",
      "code SFBS macd 没有出现金叉\n",
      "macd start to process BDX\n",
      "code BDX macd 没有出现金叉\n",
      "macd start to process FMC\n",
      "code FMC macd 没有出现金叉\n",
      "macd start to process LOW\n",
      "code LOW macd 没有出现金叉\n",
      "macd start to process JNPR\n",
      "code JNPR macd出现金叉\n",
      "macd start to process MDT\n",
      "code MDT macd 没有出现金叉\n",
      "macd start to process PSX\n",
      "code PSX macd 没有出现金叉\n",
      "macd start to process TWGP\n",
      "code TWGP macd 没有出现金叉\n",
      "macd start to process CIA\n",
      "code CIA macd 没有出现金叉\n",
      "macd start to process WWD\n",
      "code WWD macd 没有出现金叉\n",
      "macd start to process MLHR\n",
      "code MLHR macd 没有出现金叉\n",
      "macd start to process IMGN\n",
      "code IMGN macd 没有出现金叉\n",
      "macd start to process IBOC\n",
      "code IBOC macd 没有出现金叉\n",
      "macd start to process NFG\n",
      "code NFG macd出现金叉\n",
      "macd start to process IQNT\n",
      "code IQNT macd 没有出现金叉\n",
      "macd start to process NTK\n",
      "code NTK macd 没有出现金叉\n",
      "macd start to process NUS\n",
      "code NUS macd 没有出现金叉\n",
      "macd start to process RM\n",
      "code RM macd 没有出现金叉\n",
      "macd start to process HSIC\n",
      "code HSIC macd 没有出现金叉\n",
      "macd start to process SQNM\n",
      "code SQNM macd 没有出现金叉\n",
      "macd start to process SIX\n",
      "code SIX macd 没有出现金叉\n",
      "macd start to process SYRG\n",
      "code SYRG macd 没有出现金叉\n",
      "macd start to process TK\n",
      "code TK macd 没有出现金叉\n",
      "macd start to process USPH\n",
      "code USPH macd 没有出现金叉\n",
      "macd start to process UNIS\n",
      "code UNIS macd 没有出现金叉\n",
      "macd start to process WAC\n",
      "code WAC macd 没有出现金叉\n",
      "macd start to process WTBA\n",
      "code WTBA macd 没有出现金叉\n",
      "macd start to process HPQ\n",
      "code HPQ macd 没有出现金叉\n",
      "macd start to process EXAR\n",
      "code EXAR macd 没有出现金叉\n",
      "macd start to process ENS\n",
      "code ENS macd 没有出现金叉\n",
      "macd start to process REXR\n",
      "code REXR macd 没有出现金叉\n",
      "macd start to process A\n",
      "code A macd 没有出现金叉\n",
      "macd start to process AN\n",
      "code AN macd 没有出现金叉\n",
      "macd start to process HST\n",
      "code HST macd 没有出现金叉\n",
      "macd start to process TDC\n",
      "code TDC macd 没有出现金叉\n",
      "macd start to process WYNN\n",
      "code WYNN macd 没有出现金叉\n",
      "macd start to process XEL\n",
      "code XEL macd 没有出现金叉\n",
      "macd start to process DHT\n",
      "code DHT macd 没有出现金叉\n",
      "macd start to process III\n",
      "code III macd出现金叉\n",
      "macd start to process CMCSK\n",
      "code CMCSK macd 没有出现金叉\n",
      "macd start to process HITK\n",
      "code HITK macd 没有出现金叉\n",
      "macd start to process CBEY\n",
      "code CBEY macd 没有出现金叉\n",
      "macd start to process WLP\n",
      "code WLP macd 没有出现金叉\n",
      "macd start to process METR\n",
      "code METR macd 没有出现金叉\n",
      "macd start to process MOVE\n",
      "code MOVE macd 没有出现金叉\n",
      "macd start to process PSUN\n",
      "code PSUN macd 没有出现金叉\n",
      "macd start to process PSEM\n",
      "code PSEM macd 没有出现金叉\n",
      "macd start to process USMO\n",
      "code USMO macd 没有出现金叉\n",
      "macd start to process RYL\n",
      "code RYL macd 没有出现金叉\n",
      "macd start to process SWI\n",
      "code SWI macd 没有出现金叉\n",
      "macd start to process TAM\n",
      "code TAM macd 没有出现金叉\n",
      "macd start to process TIBX\n",
      "code TIBX macd 没有出现金叉\n",
      "macd start to process HTS\n",
      "code HTS macd 没有出现金叉\n",
      "macd start to process AMRE\n",
      "code AMRE macd 没有出现金叉\n",
      "macd start to process CMA\n",
      "code CMA macd 没有出现金叉\n",
      "macd start to process VVTV\n",
      "code VVTV macd 没有出现金叉\n",
      "macd start to process LIFE\n",
      "code LIFE macd 没有出现金叉\n",
      "macd start to process SWY\n",
      "code SWY macd 没有出现金叉\n",
      "macd start to process HCC\n",
      "code HCC macd 没有出现金叉\n",
      "macd start to process KYTH\n",
      "code KYTH macd 没有出现金叉\n",
      "macd start to process NBBC\n"
     ]
    },
    {
     "ename": "KeyboardInterrupt",
     "evalue": "",
     "traceback": [
      "\u001b[0;31m---------------------------------------------------------------------------\u001b[0m",
      "\u001b[0;31mKeyboardInterrupt\u001b[0m                         Traceback (most recent call last)",
      "\u001b[0;32m<ipython-input-87-adb75f542edd>\u001b[0m in \u001b[0;36m<module>\u001b[0;34m()\u001b[0m\n\u001b[1;32m      5\u001b[0m     \u001b[0;32mprint\u001b[0m\u001b[0;34m(\u001b[0m\u001b[0;34m'macd start to process %s'\u001b[0m \u001b[0;34m%\u001b[0m \u001b[0mcode\u001b[0m\u001b[0;34m)\u001b[0m\u001b[0;34m\u001b[0m\u001b[0m\n\u001b[1;32m      6\u001b[0m     \u001b[0mprefixL\u001b[0m \u001b[0;34m=\u001b[0m \u001b[0mcode\u001b[0m\u001b[0;34m[\u001b[0m\u001b[0;36m0\u001b[0m\u001b[0;34m]\u001b[0m\u001b[0;34m.\u001b[0m\u001b[0mupper\u001b[0m\u001b[0;34m(\u001b[0m\u001b[0;34m)\u001b[0m\u001b[0;34m\u001b[0m\u001b[0m\n\u001b[0;32m----> 7\u001b[0;31m     \u001b[0mdata\u001b[0m\u001b[0;34m=\u001b[0m\u001b[0mpd\u001b[0m\u001b[0;34m.\u001b[0m\u001b[0mread_sql\u001b[0m\u001b[0;34m(\u001b[0m\u001b[0msql\u001b[0m\u001b[0;34m=\u001b[0m\u001b[0;34m\"select * from prices_%s where code='%s'\"\u001b[0m \u001b[0;34m%\u001b[0m \u001b[0;34m(\u001b[0m\u001b[0mprefixL\u001b[0m\u001b[0;34m,\u001b[0m\u001b[0mcode\u001b[0m\u001b[0;34m)\u001b[0m\u001b[0;34m,\u001b[0m \u001b[0mcon\u001b[0m\u001b[0;34m=\u001b[0m\u001b[0mdb\u001b[0m\u001b[0;34m.\u001b[0m\u001b[0msession\u001b[0m\u001b[0;34m.\u001b[0m\u001b[0mconnection\u001b[0m\u001b[0;34m(\u001b[0m\u001b[0;34m)\u001b[0m\u001b[0;34m)\u001b[0m\u001b[0;34m\u001b[0m\u001b[0m\n\u001b[0m\u001b[1;32m      8\u001b[0m     \u001b[0mmacd\u001b[0m\u001b[0;34m,\u001b[0m\u001b[0mmacdsignal\u001b[0m\u001b[0;34m,\u001b[0m\u001b[0mmacdhist\u001b[0m\u001b[0;34m=\u001b[0m\u001b[0mtalib\u001b[0m\u001b[0;34m.\u001b[0m\u001b[0mMACD\u001b[0m\u001b[0;34m(\u001b[0m\u001b[0mdata\u001b[0m\u001b[0;34m[\u001b[0m\u001b[0;34m'Close'\u001b[0m\u001b[0;34m]\u001b[0m\u001b[0;34m.\u001b[0m\u001b[0mvalues\u001b[0m\u001b[0;34m)\u001b[0m\u001b[0;34m\u001b[0m\u001b[0m\n\u001b[1;32m      9\u001b[0m     \u001b[0mt1\u001b[0m\u001b[0;34m=\u001b[0m\u001b[0mpd\u001b[0m\u001b[0;34m.\u001b[0m\u001b[0mDataFrame\u001b[0m\u001b[0;34m(\u001b[0m\u001b[0;34m{\u001b[0m\u001b[0;34m\"Close\"\u001b[0m\u001b[0;34m:\u001b[0m\u001b[0mdata\u001b[0m\u001b[0;34m.\u001b[0m\u001b[0mClose\u001b[0m\u001b[0;34m.\u001b[0m\u001b[0mvalues\u001b[0m\u001b[0;34m,\u001b[0m\u001b[0;34m\"macd\"\u001b[0m\u001b[0;34m:\u001b[0m\u001b[0mmacd\u001b[0m\u001b[0;34m,\u001b[0m\u001b[0;34m\"macdsignal\"\u001b[0m\u001b[0;34m:\u001b[0m\u001b[0mmacdsignal\u001b[0m\u001b[0;34m,\u001b[0m\u001b[0;34m'macdhist'\u001b[0m\u001b[0;34m:\u001b[0m\u001b[0mmacdhist\u001b[0m\u001b[0;34m}\u001b[0m\u001b[0;34m,\u001b[0m\u001b[0mindex\u001b[0m\u001b[0;34m=\u001b[0m\u001b[0mdata\u001b[0m\u001b[0;34m.\u001b[0m\u001b[0mDate\u001b[0m\u001b[0;34m)\u001b[0m\u001b[0;34m\u001b[0m\u001b[0m\n",
      "\u001b[0;32m/Users/zhangzheng/pyenv/tensorflow/lib/python2.7/site-packages/pandas/io/sql.pyc\u001b[0m in \u001b[0;36mread_sql\u001b[0;34m(sql, con, index_col, coerce_float, params, parse_dates, columns, chunksize)\u001b[0m\n\u001b[1;32m    513\u001b[0m             \u001b[0msql\u001b[0m\u001b[0;34m,\u001b[0m \u001b[0mindex_col\u001b[0m\u001b[0;34m=\u001b[0m\u001b[0mindex_col\u001b[0m\u001b[0;34m,\u001b[0m \u001b[0mparams\u001b[0m\u001b[0;34m=\u001b[0m\u001b[0mparams\u001b[0m\u001b[0;34m,\u001b[0m\u001b[0;34m\u001b[0m\u001b[0m\n\u001b[1;32m    514\u001b[0m             \u001b[0mcoerce_float\u001b[0m\u001b[0;34m=\u001b[0m\u001b[0mcoerce_float\u001b[0m\u001b[0;34m,\u001b[0m \u001b[0mparse_dates\u001b[0m\u001b[0;34m=\u001b[0m\u001b[0mparse_dates\u001b[0m\u001b[0;34m,\u001b[0m\u001b[0;34m\u001b[0m\u001b[0m\n\u001b[0;32m--> 515\u001b[0;31m             chunksize=chunksize)\n\u001b[0m\u001b[1;32m    516\u001b[0m \u001b[0;34m\u001b[0m\u001b[0m\n\u001b[1;32m    517\u001b[0m \u001b[0;34m\u001b[0m\u001b[0m\n",
      "\u001b[0;32m/Users/zhangzheng/pyenv/tensorflow/lib/python2.7/site-packages/pandas/io/sql.pyc\u001b[0m in \u001b[0;36mread_query\u001b[0;34m(self, sql, index_col, coerce_float, parse_dates, params, chunksize)\u001b[0m\n\u001b[1;32m   1188\u001b[0m         \u001b[0margs\u001b[0m \u001b[0;34m=\u001b[0m \u001b[0m_convert_params\u001b[0m\u001b[0;34m(\u001b[0m\u001b[0msql\u001b[0m\u001b[0;34m,\u001b[0m \u001b[0mparams\u001b[0m\u001b[0;34m)\u001b[0m\u001b[0;34m\u001b[0m\u001b[0m\n\u001b[1;32m   1189\u001b[0m \u001b[0;34m\u001b[0m\u001b[0m\n\u001b[0;32m-> 1190\u001b[0;31m         \u001b[0mresult\u001b[0m \u001b[0;34m=\u001b[0m \u001b[0mself\u001b[0m\u001b[0;34m.\u001b[0m\u001b[0mexecute\u001b[0m\u001b[0;34m(\u001b[0m\u001b[0;34m*\u001b[0m\u001b[0margs\u001b[0m\u001b[0;34m)\u001b[0m\u001b[0;34m\u001b[0m\u001b[0m\n\u001b[0m\u001b[1;32m   1191\u001b[0m         \u001b[0mcolumns\u001b[0m \u001b[0;34m=\u001b[0m \u001b[0mresult\u001b[0m\u001b[0;34m.\u001b[0m\u001b[0mkeys\u001b[0m\u001b[0;34m(\u001b[0m\u001b[0;34m)\u001b[0m\u001b[0;34m\u001b[0m\u001b[0m\n\u001b[1;32m   1192\u001b[0m \u001b[0;34m\u001b[0m\u001b[0m\n",
      "\u001b[0;32m/Users/zhangzheng/pyenv/tensorflow/lib/python2.7/site-packages/pandas/io/sql.pyc\u001b[0m in \u001b[0;36mexecute\u001b[0;34m(self, *args, **kwargs)\u001b[0m\n\u001b[1;32m   1079\u001b[0m     \u001b[0;32mdef\u001b[0m \u001b[0mexecute\u001b[0m\u001b[0;34m(\u001b[0m\u001b[0mself\u001b[0m\u001b[0;34m,\u001b[0m \u001b[0;34m*\u001b[0m\u001b[0margs\u001b[0m\u001b[0;34m,\u001b[0m \u001b[0;34m**\u001b[0m\u001b[0mkwargs\u001b[0m\u001b[0;34m)\u001b[0m\u001b[0;34m:\u001b[0m\u001b[0;34m\u001b[0m\u001b[0m\n\u001b[1;32m   1080\u001b[0m         \u001b[0;34m\"\"\"Simple passthrough to SQLAlchemy connectable\"\"\"\u001b[0m\u001b[0;34m\u001b[0m\u001b[0m\n\u001b[0;32m-> 1081\u001b[0;31m         \u001b[0;32mreturn\u001b[0m \u001b[0mself\u001b[0m\u001b[0;34m.\u001b[0m\u001b[0mconnectable\u001b[0m\u001b[0;34m.\u001b[0m\u001b[0mexecute\u001b[0m\u001b[0;34m(\u001b[0m\u001b[0;34m*\u001b[0m\u001b[0margs\u001b[0m\u001b[0;34m,\u001b[0m \u001b[0;34m**\u001b[0m\u001b[0mkwargs\u001b[0m\u001b[0;34m)\u001b[0m\u001b[0;34m\u001b[0m\u001b[0m\n\u001b[0m\u001b[1;32m   1082\u001b[0m \u001b[0;34m\u001b[0m\u001b[0m\n\u001b[1;32m   1083\u001b[0m     def read_table(self, table_name, index_col=None, coerce_float=True,\n",
      "\u001b[0;32m/Users/zhangzheng/pyenv/tensorflow/lib/python2.7/site-packages/sqlalchemy/engine/base.pyc\u001b[0m in \u001b[0;36mexecute\u001b[0;34m(self, object, *multiparams, **params)\u001b[0m\n\u001b[1;32m    904\u001b[0m         \"\"\"\n\u001b[1;32m    905\u001b[0m         \u001b[0;32mif\u001b[0m \u001b[0misinstance\u001b[0m\u001b[0;34m(\u001b[0m\u001b[0mobject\u001b[0m\u001b[0;34m,\u001b[0m \u001b[0mutil\u001b[0m\u001b[0;34m.\u001b[0m\u001b[0mstring_types\u001b[0m\u001b[0;34m[\u001b[0m\u001b[0;36m0\u001b[0m\u001b[0;34m]\u001b[0m\u001b[0;34m)\u001b[0m\u001b[0;34m:\u001b[0m\u001b[0;34m\u001b[0m\u001b[0m\n\u001b[0;32m--> 906\u001b[0;31m             \u001b[0;32mreturn\u001b[0m \u001b[0mself\u001b[0m\u001b[0;34m.\u001b[0m\u001b[0m_execute_text\u001b[0m\u001b[0;34m(\u001b[0m\u001b[0mobject\u001b[0m\u001b[0;34m,\u001b[0m \u001b[0mmultiparams\u001b[0m\u001b[0;34m,\u001b[0m \u001b[0mparams\u001b[0m\u001b[0;34m)\u001b[0m\u001b[0;34m\u001b[0m\u001b[0m\n\u001b[0m\u001b[1;32m    907\u001b[0m         \u001b[0;32mtry\u001b[0m\u001b[0;34m:\u001b[0m\u001b[0;34m\u001b[0m\u001b[0m\n\u001b[1;32m    908\u001b[0m             \u001b[0mmeth\u001b[0m \u001b[0;34m=\u001b[0m \u001b[0mobject\u001b[0m\u001b[0;34m.\u001b[0m\u001b[0m_execute_on_connection\u001b[0m\u001b[0;34m\u001b[0m\u001b[0m\n",
      "\u001b[0;32m/Users/zhangzheng/pyenv/tensorflow/lib/python2.7/site-packages/sqlalchemy/engine/base.pyc\u001b[0m in \u001b[0;36m_execute_text\u001b[0;34m(self, statement, multiparams, params)\u001b[0m\n\u001b[1;32m   1052\u001b[0m             \u001b[0mstatement\u001b[0m\u001b[0;34m,\u001b[0m\u001b[0;34m\u001b[0m\u001b[0m\n\u001b[1;32m   1053\u001b[0m             \u001b[0mparameters\u001b[0m\u001b[0;34m,\u001b[0m\u001b[0;34m\u001b[0m\u001b[0m\n\u001b[0;32m-> 1054\u001b[0;31m             \u001b[0mstatement\u001b[0m\u001b[0;34m,\u001b[0m \u001b[0mparameters\u001b[0m\u001b[0;34m\u001b[0m\u001b[0m\n\u001b[0m\u001b[1;32m   1055\u001b[0m         )\n\u001b[1;32m   1056\u001b[0m         \u001b[0;32mif\u001b[0m \u001b[0mself\u001b[0m\u001b[0;34m.\u001b[0m\u001b[0m_has_events\u001b[0m \u001b[0;32mor\u001b[0m \u001b[0mself\u001b[0m\u001b[0;34m.\u001b[0m\u001b[0mengine\u001b[0m\u001b[0;34m.\u001b[0m\u001b[0m_has_events\u001b[0m\u001b[0;34m:\u001b[0m\u001b[0;34m\u001b[0m\u001b[0m\n",
      "\u001b[0;32m/Users/zhangzheng/pyenv/tensorflow/lib/python2.7/site-packages/sqlalchemy/engine/base.pyc\u001b[0m in \u001b[0;36m_execute_context\u001b[0;34m(self, dialect, constructor, statement, parameters, *args)\u001b[0m\n\u001b[1;32m   1137\u001b[0m                         \u001b[0mstatement\u001b[0m\u001b[0;34m,\u001b[0m\u001b[0;34m\u001b[0m\u001b[0m\n\u001b[1;32m   1138\u001b[0m                         \u001b[0mparameters\u001b[0m\u001b[0;34m,\u001b[0m\u001b[0;34m\u001b[0m\u001b[0m\n\u001b[0;32m-> 1139\u001b[0;31m                         context)\n\u001b[0m\u001b[1;32m   1140\u001b[0m         \u001b[0;32mexcept\u001b[0m \u001b[0mException\u001b[0m \u001b[0;32mas\u001b[0m \u001b[0me\u001b[0m\u001b[0;34m:\u001b[0m\u001b[0;34m\u001b[0m\u001b[0m\n\u001b[1;32m   1141\u001b[0m             self._handle_dbapi_exception(\n",
      "\u001b[0;32m/Users/zhangzheng/pyenv/tensorflow/lib/python2.7/site-packages/sqlalchemy/engine/default.pyc\u001b[0m in \u001b[0;36mdo_execute\u001b[0;34m(self, cursor, statement, parameters, context)\u001b[0m\n\u001b[1;32m    448\u001b[0m \u001b[0;34m\u001b[0m\u001b[0m\n\u001b[1;32m    449\u001b[0m     \u001b[0;32mdef\u001b[0m \u001b[0mdo_execute\u001b[0m\u001b[0;34m(\u001b[0m\u001b[0mself\u001b[0m\u001b[0;34m,\u001b[0m \u001b[0mcursor\u001b[0m\u001b[0;34m,\u001b[0m \u001b[0mstatement\u001b[0m\u001b[0;34m,\u001b[0m \u001b[0mparameters\u001b[0m\u001b[0;34m,\u001b[0m \u001b[0mcontext\u001b[0m\u001b[0;34m=\u001b[0m\u001b[0mNone\u001b[0m\u001b[0;34m)\u001b[0m\u001b[0;34m:\u001b[0m\u001b[0;34m\u001b[0m\u001b[0m\n\u001b[0;32m--> 450\u001b[0;31m         \u001b[0mcursor\u001b[0m\u001b[0;34m.\u001b[0m\u001b[0mexecute\u001b[0m\u001b[0;34m(\u001b[0m\u001b[0mstatement\u001b[0m\u001b[0;34m,\u001b[0m \u001b[0mparameters\u001b[0m\u001b[0;34m)\u001b[0m\u001b[0;34m\u001b[0m\u001b[0m\n\u001b[0m\u001b[1;32m    451\u001b[0m \u001b[0;34m\u001b[0m\u001b[0m\n\u001b[1;32m    452\u001b[0m     \u001b[0;32mdef\u001b[0m \u001b[0mdo_execute_no_params\u001b[0m\u001b[0;34m(\u001b[0m\u001b[0mself\u001b[0m\u001b[0;34m,\u001b[0m \u001b[0mcursor\u001b[0m\u001b[0;34m,\u001b[0m \u001b[0mstatement\u001b[0m\u001b[0;34m,\u001b[0m \u001b[0mcontext\u001b[0m\u001b[0;34m=\u001b[0m\u001b[0mNone\u001b[0m\u001b[0;34m)\u001b[0m\u001b[0;34m:\u001b[0m\u001b[0;34m\u001b[0m\u001b[0m\n",
      "\u001b[0;32m/Users/zhangzheng/pyenv/tensorflow/lib/python2.7/site-packages/MySQLdb/cursors.pyc\u001b[0m in \u001b[0;36mexecute\u001b[0;34m(self, query, args)\u001b[0m\n\u001b[1;32m    188\u001b[0m         \u001b[0;32mtry\u001b[0m\u001b[0;34m:\u001b[0m\u001b[0;34m\u001b[0m\u001b[0m\n\u001b[1;32m    189\u001b[0m             \u001b[0mr\u001b[0m \u001b[0;34m=\u001b[0m \u001b[0mNone\u001b[0m\u001b[0;34m\u001b[0m\u001b[0m\n\u001b[0;32m--> 190\u001b[0;31m             \u001b[0mr\u001b[0m \u001b[0;34m=\u001b[0m \u001b[0mself\u001b[0m\u001b[0;34m.\u001b[0m\u001b[0m_query\u001b[0m\u001b[0;34m(\u001b[0m\u001b[0mquery\u001b[0m\u001b[0;34m)\u001b[0m\u001b[0;34m\u001b[0m\u001b[0m\n\u001b[0m\u001b[1;32m    191\u001b[0m         \u001b[0;32mexcept\u001b[0m \u001b[0mTypeError\u001b[0m\u001b[0;34m,\u001b[0m \u001b[0mm\u001b[0m\u001b[0;34m:\u001b[0m\u001b[0;34m\u001b[0m\u001b[0m\n\u001b[1;32m    192\u001b[0m             if m.args[0] in (\"not enough arguments for format string\",\n",
      "\u001b[0;32m/Users/zhangzheng/pyenv/tensorflow/lib/python2.7/site-packages/MySQLdb/cursors.pyc\u001b[0m in \u001b[0;36m_query\u001b[0;34m(self, q)\u001b[0m\n\u001b[1;32m    352\u001b[0m \u001b[0;34m\u001b[0m\u001b[0m\n\u001b[1;32m    353\u001b[0m     \u001b[0;32mdef\u001b[0m \u001b[0m_query\u001b[0m\u001b[0;34m(\u001b[0m\u001b[0mself\u001b[0m\u001b[0;34m,\u001b[0m \u001b[0mq\u001b[0m\u001b[0;34m)\u001b[0m\u001b[0;34m:\u001b[0m\u001b[0;34m\u001b[0m\u001b[0m\n\u001b[0;32m--> 354\u001b[0;31m         \u001b[0mrowcount\u001b[0m \u001b[0;34m=\u001b[0m \u001b[0mself\u001b[0m\u001b[0;34m.\u001b[0m\u001b[0m_do_query\u001b[0m\u001b[0;34m(\u001b[0m\u001b[0mq\u001b[0m\u001b[0;34m)\u001b[0m\u001b[0;34m\u001b[0m\u001b[0m\n\u001b[0m\u001b[1;32m    355\u001b[0m         \u001b[0mself\u001b[0m\u001b[0;34m.\u001b[0m\u001b[0m_post_get_result\u001b[0m\u001b[0;34m(\u001b[0m\u001b[0;34m)\u001b[0m\u001b[0;34m\u001b[0m\u001b[0m\n\u001b[1;32m    356\u001b[0m         \u001b[0;32mreturn\u001b[0m \u001b[0mrowcount\u001b[0m\u001b[0;34m\u001b[0m\u001b[0m\n",
      "\u001b[0;32m/Users/zhangzheng/pyenv/tensorflow/lib/python2.7/site-packages/MySQLdb/cursors.pyc\u001b[0m in \u001b[0;36m_do_query\u001b[0;34m(self, q)\u001b[0m\n\u001b[1;32m    317\u001b[0m         \u001b[0mself\u001b[0m\u001b[0;34m.\u001b[0m\u001b[0m_last_executed\u001b[0m \u001b[0;34m=\u001b[0m \u001b[0mq\u001b[0m\u001b[0;34m\u001b[0m\u001b[0m\n\u001b[1;32m    318\u001b[0m         \u001b[0mdb\u001b[0m\u001b[0;34m.\u001b[0m\u001b[0mquery\u001b[0m\u001b[0;34m(\u001b[0m\u001b[0mq\u001b[0m\u001b[0;34m)\u001b[0m\u001b[0;34m\u001b[0m\u001b[0m\n\u001b[0;32m--> 319\u001b[0;31m         \u001b[0mself\u001b[0m\u001b[0;34m.\u001b[0m\u001b[0m_do_get_result\u001b[0m\u001b[0;34m(\u001b[0m\u001b[0;34m)\u001b[0m\u001b[0;34m\u001b[0m\u001b[0m\n\u001b[0m\u001b[1;32m    320\u001b[0m         \u001b[0;32mreturn\u001b[0m \u001b[0mself\u001b[0m\u001b[0;34m.\u001b[0m\u001b[0mrowcount\u001b[0m\u001b[0;34m\u001b[0m\u001b[0m\n\u001b[1;32m    321\u001b[0m \u001b[0;34m\u001b[0m\u001b[0m\n",
      "\u001b[0;32m/Users/zhangzheng/pyenv/tensorflow/lib/python2.7/site-packages/MySQLdb/cursors.pyc\u001b[0m in \u001b[0;36m_do_get_result\u001b[0;34m(self)\u001b[0m\n\u001b[1;32m    142\u001b[0m     \u001b[0;32mdef\u001b[0m \u001b[0m_do_get_result\u001b[0m\u001b[0;34m(\u001b[0m\u001b[0mself\u001b[0m\u001b[0;34m)\u001b[0m\u001b[0;34m:\u001b[0m\u001b[0;34m\u001b[0m\u001b[0m\n\u001b[1;32m    143\u001b[0m         \u001b[0mdb\u001b[0m \u001b[0;34m=\u001b[0m \u001b[0mself\u001b[0m\u001b[0;34m.\u001b[0m\u001b[0m_get_db\u001b[0m\u001b[0;34m(\u001b[0m\u001b[0;34m)\u001b[0m\u001b[0;34m\u001b[0m\u001b[0m\n\u001b[0;32m--> 144\u001b[0;31m         \u001b[0mself\u001b[0m\u001b[0;34m.\u001b[0m\u001b[0m_result\u001b[0m \u001b[0;34m=\u001b[0m \u001b[0mself\u001b[0m\u001b[0;34m.\u001b[0m\u001b[0m_get_result\u001b[0m\u001b[0;34m(\u001b[0m\u001b[0;34m)\u001b[0m\u001b[0;34m\u001b[0m\u001b[0m\n\u001b[0m\u001b[1;32m    145\u001b[0m         \u001b[0mself\u001b[0m\u001b[0;34m.\u001b[0m\u001b[0mrowcount\u001b[0m \u001b[0;34m=\u001b[0m \u001b[0mdb\u001b[0m\u001b[0;34m.\u001b[0m\u001b[0maffected_rows\u001b[0m\u001b[0;34m(\u001b[0m\u001b[0;34m)\u001b[0m\u001b[0;34m\u001b[0m\u001b[0m\n\u001b[1;32m    146\u001b[0m         \u001b[0mself\u001b[0m\u001b[0;34m.\u001b[0m\u001b[0mrownumber\u001b[0m \u001b[0;34m=\u001b[0m \u001b[0;36m0\u001b[0m\u001b[0;34m\u001b[0m\u001b[0m\n",
      "\u001b[0;32m/Users/zhangzheng/pyenv/tensorflow/lib/python2.7/site-packages/MySQLdb/cursors.pyc\u001b[0m in \u001b[0;36m_get_result\u001b[0;34m(self)\u001b[0m\n\u001b[1;32m    349\u001b[0m     query, or using CursorUseResultMixIn instead.\"\"\"\n\u001b[1;32m    350\u001b[0m \u001b[0;34m\u001b[0m\u001b[0m\n\u001b[0;32m--> 351\u001b[0;31m     \u001b[0;32mdef\u001b[0m \u001b[0m_get_result\u001b[0m\u001b[0;34m(\u001b[0m\u001b[0mself\u001b[0m\u001b[0;34m)\u001b[0m\u001b[0;34m:\u001b[0m \u001b[0;32mreturn\u001b[0m \u001b[0mself\u001b[0m\u001b[0;34m.\u001b[0m\u001b[0m_get_db\u001b[0m\u001b[0;34m(\u001b[0m\u001b[0;34m)\u001b[0m\u001b[0;34m.\u001b[0m\u001b[0mstore_result\u001b[0m\u001b[0;34m(\u001b[0m\u001b[0;34m)\u001b[0m\u001b[0;34m\u001b[0m\u001b[0m\n\u001b[0m\u001b[1;32m    352\u001b[0m \u001b[0;34m\u001b[0m\u001b[0m\n\u001b[1;32m    353\u001b[0m     \u001b[0;32mdef\u001b[0m \u001b[0m_query\u001b[0m\u001b[0;34m(\u001b[0m\u001b[0mself\u001b[0m\u001b[0;34m,\u001b[0m \u001b[0mq\u001b[0m\u001b[0;34m)\u001b[0m\u001b[0;34m:\u001b[0m\u001b[0;34m\u001b[0m\u001b[0m\n",
      "\u001b[0;31mKeyboardInterrupt\u001b[0m: "
     ],
     "output_type": "error"
    }
   ],
   "source": [
    "#金叉判断  macd、macdsignal均为正，macd向上突破macdsignal，买入信号\n",
    "#选择上穿点发生在最近三天的股票\n",
    "simple_codes = codes['code'].str.replace(\"WIKI/\",\"\").values\n",
    "for code in simple_codes[:100]:\n",
    "    print('macd start to process %s' % code)\n",
    "    prefixL = code[0].upper()\n",
    "    data=pd.read_sql(sql=\"select * from prices_%s where code='%s'\" % (prefixL,code), con=db.session.connection())\n",
    "    macd,macdsignal,macdhist=talib.MACD(data['Close'].values)\n",
    "    t1=pd.DataFrame({\"Close\":data.Close.values,\"macd\":macd,\"macdsignal\":macdsignal,'macdhist':macdhist},index=data.Date)\n",
    "    #判断最近一天是否上穿点\n",
    "    if t1['macd'][-1]>0 and t1['macdsignal'][-1]>0 \\\n",
    "        and t1['macd'][-1]>t1['macdsignal'][-1] and t1['macd'][-2]<t1['macdsignal'][-2]:       \n",
    "        print('code %s macd出现金叉' % code)\n",
    "        \n",
    "    else:\n",
    "        print(\"code %s macd 没有出现金叉\" % code)"
   ]
  },
  {
   "cell_type": "code",
   "execution_count": 76,
   "metadata": {
    "collapsed": false
   },
   "outputs": [
    {
     "name": "stdout",
     "output_type": "stream",
     "text": [
      "haha\n"
     ]
    }
   ],
   "source": [
    "print(\"haha\")"
   ]
  },
  {
   "cell_type": "code",
   "execution_count": 90,
   "metadata": {
    "collapsed": false
   },
   "outputs": [
    {
     "data": {
      "text/html": [
       "<div>\n",
       "<table border=\"1\" class=\"dataframe\">\n",
       "  <thead>\n",
       "    <tr style=\"text-align: right;\">\n",
       "      <th></th>\n",
       "      <th>code</th>\n",
       "      <th>company_name</th>\n",
       "    </tr>\n",
       "  </thead>\n",
       "  <tbody>\n",
       "    <tr>\n",
       "      <th>35</th>\n",
       "      <td>WIKI/NFG</td>\n",
       "      <td>National Fuel Gas Co. (NJ) (NFG) Prices, Divid...</td>\n",
       "    </tr>\n",
       "  </tbody>\n",
       "</table>\n",
       "</div>"
      ],
      "text/plain": [
       "        code                                       company_name\n",
       "35  WIKI/NFG  National Fuel Gas Co. (NJ) (NFG) Prices, Divid..."
      ]
     },
     "execution_count": 90,
     "metadata": {},
     "output_type": "execute_result"
    }
   ],
   "source": [
    "codes[codes.code=='WIKI/NFG']"
   ]
  },
  {
   "cell_type": "code",
   "execution_count": null,
   "metadata": {
    "collapsed": true
   },
   "outputs": [],
   "source": [
    ""
   ]
  }
 ],
 "metadata": {
  "kernelspec": {
   "display_name": "Python 2",
   "language": "python",
   "name": "python2"
  },
  "language_info": {
   "codemirror_mode": {
    "name": "ipython",
    "version": 2.0
   },
   "file_extension": ".py",
   "mimetype": "text/x-python",
   "name": "python",
   "nbconvert_exporter": "python",
   "pygments_lexer": "ipython2",
   "version": "2.7.10"
  }
 },
 "nbformat": 4,
 "nbformat_minor": 0
}